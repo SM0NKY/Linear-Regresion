{
 "cells": [
  {
   "cell_type": "markdown",
   "metadata": {},
   "source": [
    "# Problema\n",
    "\n",
    "## Una ciudad está estudiando su crecimiento poblacional durante los últimos años para proyectar su población futura. Se tieene el siguiente conjunto de datos, donde la variable x, representa los años transcurridos desde 2010, y la variable y la población en miles de habitantes. "
   ]
  },
  {
   "cell_type": "markdown",
   "metadata": {},
   "source": [
    "|Año (x)|Población|\n",
    "|:--:|:--:|\n",
    "|2010| 50|\n",
    "|2011| 55|\n",
    "|2014|58|\n",
    "|2016|60|\n",
    "|2020|88|\n",
    "|2023|105|\n"
   ]
  },
  {
   "cell_type": "markdown",
   "metadata": {},
   "source": [
    "# Instrucciones\n",
    "\n",
    "- Realiza un análisis del crecimiento poblacional utilizando los modelos de regresión lineal y exponencial a través de un código generado en \"Matlab\"\n",
    "\n",
    "- Implementar un menu utilizando una estructura de control switch/case que permita seleccionar entre las opciones de Regresion Lineal y Regresión Exponencial.\n",
    "\n",
    "- Graficar los puntos correspondientes al conjunto de datos para cada caso seleccionado.\n",
    "\n",
    "- Desarrollar el código necesario para realizar el ajuste según el modelo de regresion elegido"
   ]
  }
 ],
 "metadata": {
  "language_info": {
   "name": "python"
  }
 },
 "nbformat": 4,
 "nbformat_minor": 2
}
