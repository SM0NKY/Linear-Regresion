{
 "cells": [
  {
   "cell_type": "markdown",
   "metadata": {},
   "source": [
    "# Problema\n",
    "\n",
    "## Una ciudad está estudiando su crecimiento poblacional durante los últimos años para proyectar su población futura. Se tiene el siguiente conjunto de datos, donde la variable x, representa los años transcurridos desde 2010, y la variable y la población en miles de habitantes. "
   ]
  },
  {
   "cell_type": "markdown",
   "metadata": {},
   "source": [
    "|Año (x)|Población|\n",
    "|:--:|:--:|\n",
    "|2010| 50|\n",
    "|2011| 55|\n",
    "|2014|58|\n",
    "|2016|60|\n",
    "|2020|88|\n",
    "|2023|105|\n"
   ]
  },
  {
   "cell_type": "markdown",
   "metadata": {},
   "source": [
    "# Instrucciones\n",
    "\n",
    "- Realiza un análisis del crecimiento poblacional utilizando los modelos de regresión lineal y exponencial a través de un código generado en \"Matlab\"\n",
    "\n",
    "- Implementar un menu utilizando una estructura de control switch/case que permita seleccionar entre las opciones de Regresion Lineal y Regresión Exponencial.\n",
    "\n",
    "- Graficar los puntos correspondientes al conjunto de datos para cada caso seleccionado.\n",
    "\n",
    "- Desarrollar el código necesario para realizar el ajuste según el modelo de regresion elegido"
   ]
  },
  {
   "cell_type": "markdown",
   "metadata": {},
   "source": [
    "# Procedimiento\n",
    "\n",
    "- Primero agregamos los botones de la ventana\n",
    "- Luego agregamos los casos para obtener las ecuaciones de c/metodo\n",
    "- Obtenemos el valor de la ecuación con Regresión Lineal y Exponencial"
   ]
  },
  {
   "cell_type": "markdown",
   "metadata": {},
   "source": [
    "# Formulas\n",
    "\n",
    "## Regresion Lineal\n",
    "    "
   ]
  },
  {
   "cell_type": "markdown",
   "metadata": {},
   "source": [
    "$$ y = mx + b $$\n",
    "\n",
    "$$ m = \\frac{n \\sum xy - \\sum x \\sum y}{n \\sum x^2 - (\\sum x)^2} $$\n",
    "\n",
    "$$ b = \\frac{\\sum y - m \\sum x}{n} $$"
   ]
  },
  {
   "cell_type": "markdown",
   "metadata": {},
   "source": [
    "## Regresion Exponencial\n",
    "\n",
    "\n",
    "$$\n",
    "A = \\begin{bmatrix} \n",
    "n & \\sum x \\\\ \n",
    "\\sum x & \\sum x^2 \n",
    "\\end{bmatrix}\n",
    "$$\n",
    "\n",
    "$$\n",
    "B = \\begin{bmatrix}  \n",
    "b0 \\\\\n",
    "b1 \n",
    "\\end{bmatrix}\n",
    "$$\n",
    "\n",
    "\n",
    "$$\n",
    "B = \\begin{bmatrix}\n",
    "\\sum ln(y) \\\\\n",
    "\\sum ln(y)*x \n",
    "\\end{bmatrix}\n",
    "$$"
   ]
  },
  {
   "cell_type": "code",
   "execution_count": 160,
   "metadata": {},
   "outputs": [],
   "source": [
    "import customtkinter as ctk\n",
    "from typing import Any, Optional, LiteralString, Literal, Dict,List,Callable\n",
    "import numpy as np\n",
    "import matplotlib.pyplot as plt\n",
    "from math import e"
   ]
  },
  {
   "cell_type": "code",
   "execution_count": null,
   "metadata": {},
   "outputs": [],
   "source": [
    "import customtkinter as ctk\n",
    "\n",
    "class Window(ctk.CTk):\n",
    "    \"\"\" Esta funcion contiene el menú con las opciones para utilizar el método de regresión lineal o exponencial\n",
    "    Parameters\n",
    "    ----------\n",
    "    `x` : List[float|int]\n",
    "        Arreglo de los valores de x\n",
    "    `y` : List[float|int]\n",
    "        Arreglo de los valores de y\n",
    "\n",
    "    Atributes\n",
    "    ---------\n",
    "    `seleccion` : str\n",
    "        Corresponde a la selección del metodo, si se tomo regresion Lineal o exponencial\n",
    "    `ecucacion` : str\n",
    "        Corresponde a la ecuacion de salida, como producto del metodo utilizado\n",
    "\n",
    "    \"\"\"\n",
    "    def __init__(ventana,x:List[float|int], y:List[float|int]):\n",
    "        super().__init__()\n",
    "        #Se define el titulo y algunas de las propiedades de la ventana\n",
    "        ventana.title(\"Seleccion.regresión\")\n",
    "        ventana.geometry(\"300x300\")\n",
    "        ventana.valoresx:List[float|int] = np.array(x,dtype=float)\n",
    "        ventana.valoresy:List[float|int] = np.array(y,dtype= float)\n",
    "        ventana.seleccion:str = None\n",
    "        ventana.ecuacion:str = \"\"\n",
    "        \n",
    "        #Aqui se definen los botones de la ventana#\n",
    "        ventana.label1:ctk.CTkButton = ctk.CTkButton(master= ventana, text= \"Regresion Lineal\", command= ventana.seleccion_rl, font=(\"Sans Seriff\", 16))\n",
    "        ventana.label2:ctk.CTkButton = ctk.CTkButton(master= ventana, text= \"Regresion Exponencial\", command= ventana.seleccion_re, font=(\"Sans Seriff\",16))\n",
    "\n",
    "\n",
    "    #Se define si es una regresion lineal o exponencial para poder cambiarla con los botones\n",
    "    def seleccion_rl(ventana) -> None:\n",
    "        ventana.seleccion = \"LReg\" #Llamar el metodo\n",
    "        ventana.regresion_lineal()\n",
    "        ventana.destroy()\n",
    "    def seleccion_re(ventana) -> None:\n",
    "        ventana.seleccion = \"EReg\" #Llamar el metodo\n",
    "        ventana.regresion_exponencial()\n",
    "        ventana.destroy()\n",
    "\n",
    "    #Se utiliza el decorador para evitar escribir muchas veces y para manejar los errores de una forma eficiente.\n",
    "    def error(message:Literal[\"Error al utilizar el método\"]) -> Optional[Any]:\n",
    "        def dec(func:Callable[...,Any]) -> Optional[Any]:\n",
    "            def wr(ventana,*args,**kwargs):\n",
    "                try:\n",
    "                    if len(ventana.valoresx) == len(ventana.valoresy) and len(ventana.valoresx) != 0 and len(ventana.valoresy) != 0 and ventana.seleccion != None:  \n",
    "                        return func(ventana,*args, **kwargs)\n",
    "                    else:\n",
    "                        raise Exception(\"Los arreglos no tienen dimensiones iguales\")\n",
    "                except Exception as e:\n",
    "                    print(f\"{message}: {e}, en el metodo/funcion {func.__name__}\")\n",
    "            return wr\n",
    "        return dec\n",
    "\n",
    "    def window(ventana) -> None:\n",
    "        \"\"\" Este metodo inicializa la ventana con los botones\n",
    "\n",
    "        Parameters\n",
    "        ----------\n",
    "        `None`\n",
    "        \"\"\"\n",
    "        \n",
    "        ventana.label1.pack(padx = 10, pady = 10)\n",
    "        ventana.label2.pack(padx = 10, pady = 10)\n",
    "\n",
    "        \n",
    "        ventana.mainloop()\n",
    "\n",
    "    @error(\"Error al utilizar el método\")\n",
    "    def regresion_lineal(ventana) -> Optional[str]:\n",
    "        \"\"\" Este metodo calcula con los datos definidos la función\n",
    "\n",
    "        Parameters\n",
    "        ----------\n",
    "        `None`\n",
    "        \"\"\"\n",
    "        media_x = sum(ventana.valoresx) / len(ventana.valoresx)\n",
    "        media_y = sum(ventana.valoresy) / len(ventana.valoresy)\n",
    "\n",
    "        # Parte superior de la formula de pendiente, len significa longitud del vector y sum suma de los datos del vector\n",
    "        ps_pendiente:int|float = len(ventana.valoresx) * sum(ventana.valoresx * ventana.valoresy) - sum(ventana.valoresx) * sum(ventana.valoresy)\n",
    "\n",
    "        #Parte inferior de la formula de la pendiente\n",
    "        pi_pendiente:int|float = len(ventana.valoresx) * sum(ventana.valoresx * ventana.valoresx) - (sum(ventana.valoresx) * sum(ventana.valoresx))\n",
    "\n",
    "        #Parte de la interseccion con el eje y\n",
    "        valor_b:int|float = media_y - media_x*(ps_pendiente/pi_pendiente)\n",
    "        \n",
    "        ventana.ecuacion = f\"{ps_pendiente/pi_pendiente}*x+{valor_b}\" if valor_b > 0 else f\"{ps_pendiente/pi_pendiente}*x{valor_b}\"\n",
    "\n",
    "        return f\"{ps_pendiente/pi_pendiente}*x+{valor_b}\" if valor_b > 0 else f\"{ps_pendiente/pi_pendiente}*x{valor_b}\"\n",
    "    \n",
    "\n",
    "    @error(\"Error al utilizar el método\")\n",
    "    def regresion_exponencial(ventana) -> Optional[str]:\n",
    "        \"\"\" Este metodo calcula la ecuacion utilizando regresion_exponencial\n",
    "\n",
    "        Parameters\n",
    "        ----------\n",
    "        `None`\n",
    "        \"\"\"\n",
    "        Ln_yvalues:List[float|int] = np.log(ventana.valoresy)  \n",
    "        x_squared_values:List[float|int] = ventana.valoresx **2\n",
    "        Ln_yx_values:List[float|int] = Ln_yvalues* ventana.valoresx\n",
    "        \n",
    "        #Creacion de Vectores A y B para encontrar los valores de B0 y B1#\n",
    "        A:List[List[List[float|int]]] = np.array([\n",
    "            [len(ventana.valoresx), sum(ventana.valoresx)],\n",
    "            [sum(ventana.valoresx), sum(x_squared_values)]\n",
    "            ], dtype= float)\n",
    "        \n",
    "        C:List[float|int] = np.array([sum(Ln_yvalues), sum(Ln_yx_values)]).reshape(-1,1)\n",
    "        \n",
    "        #Se multiplica la inversa de la matriz A con la matriz C, o puede dividirse la matriz A, con la matriz C, para encontrarse el valor de C\n",
    "        B:List[List[float|int]] = np.linalg.inv(A) @ C\n",
    "\n",
    "        B0 = e**B.flatten()[0]\n",
    "        B1 = B.flatten()[1]\n",
    "        \n",
    "        ventana.ecuacion = f\"{B0}*exp({B1}*x)\" \n",
    "        \n",
    "        \n",
    "        return ventana.ecuacion\n",
    "\n",
    "        \n"
   ]
  },
  {
   "cell_type": "markdown",
   "metadata": {},
   "source": [
    "#Definir \n",
    "\n",
    "- Matriz con los valores de la tabla en x,y para los parametros de las funciones"
   ]
  },
  {
   "cell_type": "code",
   "execution_count": 187,
   "metadata": {},
   "outputs": [],
   "source": [
    "Años:List[int] = [2010,2011,2014,2016,2020,2023]\n",
    "Poblacion:List[int] = [50,55,58,60,88,105]"
   ]
  },
  {
   "cell_type": "code",
   "execution_count": 188,
   "metadata": {},
   "outputs": [],
   "source": [
    "ventana = Window(x= Años,y = Poblacion)"
   ]
  },
  {
   "cell_type": "code",
   "execution_count": 189,
   "metadata": {},
   "outputs": [],
   "source": [
    "ventana.window()"
   ]
  },
  {
   "cell_type": "code",
   "execution_count": 190,
   "metadata": {},
   "outputs": [
    {
     "data": {
      "text/plain": [
       "'EReg'"
      ]
     },
     "execution_count": 190,
     "metadata": {},
     "output_type": "execute_result"
    }
   ],
   "source": [
    "ventana.seleccion"
   ]
  },
  {
   "cell_type": "code",
   "execution_count": 191,
   "metadata": {},
   "outputs": [
    {
     "data": {
      "text/plain": [
       "'4.9041824477311624e-48*exp(0.05612778380184769*x)'"
      ]
     },
     "execution_count": 191,
     "metadata": {},
     "output_type": "execute_result"
    }
   ],
   "source": [
    "ventana.ecuacion"
   ]
  },
  {
   "cell_type": "code",
   "execution_count": 192,
   "metadata": {},
   "outputs": [],
   "source": [
    "from sympy import sympify,lambdify,symbols,exp"
   ]
  },
  {
   "cell_type": "code",
   "execution_count": 193,
   "metadata": {},
   "outputs": [
    {
     "data": {
      "text/latex": [
       "$\\displaystyle 4.9041824477311624 \\cdot 10^{-48} e^{0.05612778380184769 x}$"
      ],
      "text/plain": [
       "4.9041824477311624e-48*exp(0.05612778380184769*x)"
      ]
     },
     "execution_count": 193,
     "metadata": {},
     "output_type": "execute_result"
    }
   ],
   "source": [
    "#Agregar aqui la función de Regresion Lineal y exponencial\n",
    "\n",
    "ecuacion = sympify(ventana.ecuacion, locals ={\"exp\": exp})\n",
    "ecuacion"
   ]
  },
  {
   "cell_type": "code",
   "execution_count": 194,
   "metadata": {},
   "outputs": [],
   "source": [
    "x = symbols('x')\n",
    "f_x = lambdify(x,ecuacion,\"numpy\")"
   ]
  },
  {
   "cell_type": "code",
   "execution_count": 195,
   "metadata": {},
   "outputs": [],
   "source": [
    "x_vals = np.linspace(1,10,50)\n",
    "y_vals = f_x(x_vals)"
   ]
  },
  {
   "cell_type": "code",
   "execution_count": 196,
   "metadata": {},
   "outputs": [
    {
     "data": {
      "text/plain": [
       "array([5.18731481e-48, 5.24106840e-48, 5.29537901e-48, 5.35025241e-48,\n",
       "       5.40569444e-48, 5.46171099e-48, 5.51830802e-48, 5.57549152e-48,\n",
       "       5.63326760e-48, 5.69164237e-48, 5.75062206e-48, 5.81021292e-48,\n",
       "       5.87042130e-48, 5.93125358e-48, 5.99271624e-48, 6.05481581e-48,\n",
       "       6.11755889e-48, 6.18095214e-48, 6.24500230e-48, 6.30971618e-48,\n",
       "       6.37510066e-48, 6.44116269e-48, 6.50790929e-48, 6.57534755e-48,\n",
       "       6.64348464e-48, 6.71232779e-48, 6.78188434e-48, 6.85216167e-48,\n",
       "       6.92316725e-48, 6.99490862e-48, 7.06739341e-48, 7.14062933e-48,\n",
       "       7.21462415e-48, 7.28938575e-48, 7.36492207e-48, 7.44124113e-48,\n",
       "       7.51835104e-48, 7.59626001e-48, 7.67497631e-48, 7.75450831e-48,\n",
       "       7.83486446e-48, 7.91605331e-48, 7.99808347e-48, 8.08096367e-48,\n",
       "       8.16470271e-48, 8.24930951e-48, 8.33479304e-48, 8.42116239e-48,\n",
       "       8.50842675e-48, 8.59659539e-48])"
      ]
     },
     "execution_count": 196,
     "metadata": {},
     "output_type": "execute_result"
    }
   ],
   "source": [
    "y_vals"
   ]
  },
  {
   "cell_type": "code",
   "execution_count": 197,
   "metadata": {},
   "outputs": [
    {
     "data": {
      "image/png": "[encoded data removed]",
      "text/plain": [
       "<Figure size 800x500 with 1 Axes>"
      ]
     },
     "metadata": {},
     "output_type": "display_data"
    }
   ],
   "source": [
    "plt.figure(figsize=(8, 5))\n",
    "plt.plot(x_vals, y_vals, label=str(ecuacion), color=\"b\")\n",
    "plt.legend()\n",
    "plt.grid(True)\n",
    "plt.show()\n"
   ]
  }
 ],
 "metadata": {
  "kernelspec": {
   "display_name": "Python 3",
   "language": "python",
   "name": "python3"
  },
  "language_info": {
   "codemirror_mode": {
    "name": "ipython",
    "version": 3
   },
   "file_extension": ".py",
   "mimetype": "text/x-python",
   "name": "python",
   "nbconvert_exporter": "python",
   "pygments_lexer": "ipython3",
   "version": "3.13.1"
  }
 },
 "nbformat": 4,
 "nbformat_minor": 2
}
