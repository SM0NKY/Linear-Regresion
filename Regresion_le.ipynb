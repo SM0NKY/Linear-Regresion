{
 "cells": [
  {
   "cell_type": "markdown",
   "metadata": {},
   "source": [
    "# Problema\n",
    "\n",
    "## Una ciudad está estudiando su crecimiento poblacional durante los últimos años para proyectar su población futura. Se tiene el siguiente conjunto de datos, donde la variable x, representa los años transcurridos desde 2010, y la variable y la población en miles de habitantes. "
   ]
  },
  {
   "cell_type": "markdown",
   "metadata": {},
   "source": [
    "|Año (x)|Población|\n",
    "|:--:|:--:|\n",
    "|2010| 50|\n",
    "|2011| 55|\n",
    "|2014|58|\n",
    "|2016|60|\n",
    "|2020|88|\n",
    "|2023|105|\n"
   ]
  },
  {
   "cell_type": "markdown",
   "metadata": {},
   "source": [
    "# Instrucciones\n",
    "\n",
    "- Realiza un análisis del crecimiento poblacional utilizando los modelos de regresión lineal y exponencial a través de un código generado en \"Matlab\"\n",
    "\n",
    "- Implementar un menu utilizando una estructura de control switch/case que permita seleccionar entre las opciones de Regresion Lineal y Regresión Exponencial.\n",
    "\n",
    "- Graficar los puntos correspondientes al conjunto de datos para cada caso seleccionado.\n",
    "\n",
    "- Desarrollar el código necesario para realizar el ajuste según el modelo de regresion elegido"
   ]
  },
  {
   "cell_type": "markdown",
   "metadata": {},
   "source": [
    "# Procedimiento\n",
    "\n",
    "- Primero agregamos los botones de la ventana\n",
    "- Luego agregamos los casos para obtener las ecuaciones de c/metodo\n",
    "- Obtenemos el valor de la ecuación con Regresión Lineal y Exponencial"
   ]
  },
  {
   "cell_type": "markdown",
   "metadata": {},
   "source": [
    "# Formulas\n",
    "\n",
    "## Regresion Lineal\n",
    "    "
   ]
  },
  {
   "cell_type": "code",
   "execution_count": 27,
   "metadata": {},
   "outputs": [],
   "source": [
    "import customtkinter as ctk\n",
    "from typing import Any, Optional, LiteralString, Literal, Dict,List,Callable"
   ]
  },
  {
   "cell_type": "code",
   "execution_count": null,
   "metadata": {},
   "outputs": [],
   "source": [
    "import customtkinter as ctk\n",
    "\n",
    "class Window(ctk.CTk):\n",
    "    \"\"\" Esta funcion contiene el menú con las opciones para utilizar el método de regresión lineal o exponencial\n",
    "    Parameters\n",
    "    ----------\n",
    "    `x` : List[float|int]\n",
    "        Arreglo de los valores de x\n",
    "    `y` : List[float|int]\n",
    "        Arreglo de los valores de y\n",
    "\n",
    "    Atributes\n",
    "    ---------\n",
    "    `seleccion` : str\n",
    "        Corresponde a la selección del metodo, si se tomo regresion Lineal o exponencial\n",
    "    `ecucacion` : str\n",
    "        Corresponde a la ecuacion de salida, como producto del metodo utilizado\n",
    "\n",
    "    \"\"\"\n",
    "    def __init__(ventana,x:List[float|int], y:List[float|int]):\n",
    "        super().__init__()\n",
    "        #Se define el titulo y algunas de las propiedades de la ventana\n",
    "        ventana.title(\"Seleccion.regresión\")\n",
    "        ventana.geometry(\"300x300\")\n",
    "        ventana.valoresx:List[float|int] = x\n",
    "        ventana.valoresy:List[float|int] = y\n",
    "        ventana.seleccion:str = None\n",
    "        ventana.ecuacion:str = \"\"\n",
    "        \n",
    "        #Aqui se definen los botones de la ventana#\n",
    "        ventana.label1:ctk.CTkButton = ctk.CTkButton(master= ventana, text= \"Regresion Lineal\", command= ventana.seleccion_rl, font=(\"Sans Seriff\", 16))\n",
    "        ventana.label2:ctk.CTkButton = ctk.CTkButton(master= ventana, text= \"Regresion Exponencial\", command= ventana.seleccion_re, font=(\"Sans Seriff\",16))\n",
    "\n",
    "\n",
    "    #Se define si es una regresion lineal o exponencial para poder cambiarla con los botones\n",
    "    def seleccion_rl(ventana) -> None:\n",
    "        ventana.seleccion = \"LReg\" #Llamar el metodo\n",
    "        ventana.destroy()\n",
    "    def seleccion_re(ventana) -> None:\n",
    "        ventana.seleccion = \"EReg\" #Llamar el metodo\n",
    "        ventana.destroy()\n",
    "\n",
    "    #Se utiliza el decorador para evitar escribir muchas veces y para manejar los errores de una forma eficiente.\n",
    "    def error(message:Literal[\"Error al utilizar el método\"]) -> Optional[Any]:\n",
    "        def dec(func:Callable[...,Any]) -> Optional[Any]:\n",
    "            def wr(ventana,*args,**kwargs):\n",
    "                try:\n",
    "                    if len(ventana.valoesx) == len(ventana.valoresy) and len(ventana.valoresx) != 0 and len(ventana.valoresy) != 0 and ventana.seleccion != None:  \n",
    "                        return func(*args, **kwargs)\n",
    "                    else:\n",
    "                        raise Exception(\"Los arreglos no tienen dimensiones iguales\")\n",
    "                except Exception as e:\n",
    "                    print(f\"{message}: {e}, en el metodo/funcion {func.__name__}\")\n",
    "            return wr\n",
    "        return dec\n",
    "\n",
    "    def window(ventana) -> None:\n",
    "        \"\"\" Este metodo inicializa la ventana con los botones\n",
    "\n",
    "        Parameters\n",
    "        ----------\n",
    "        `None`\n",
    "        \"\"\"\n",
    "        \n",
    "        ventana.label1.pack(padx = 10, pady = 10)\n",
    "        ventana.label2.pack(padx = 10, pady = 10)\n",
    "\n",
    "        \n",
    "        ventana.mainloop()\n",
    "\n",
    "    @error(\"Error al utilizar el método\")\n",
    "    def regresion_lineal(ventana) -> Optional[Any]:\n",
    "        \"\"\" Este metodo calcula con los datos definidos la función\n",
    "\n",
    "        Parameters\n",
    "        ----------\n",
    "        `None`\n",
    "        \"\"\"\n",
    "        media_x = sum(ventana.valoresx) / len(ventana.valoresx)\n",
    "        media_y = sum(ventana.valoresy) / len(ventana.valoresy)\n",
    "\n",
    "        # Parte superior de la formula de pendiente, len significa longitud del vector y sum suma de los datos del vector\n",
    "        ps_pendiente:int|float = len(ventana.valoresx) * sum(ventana.valoresx * ventana.valoresy) - sum(ventana.valoresx) * sum(ventana.valoresy)\n",
    "\n",
    "        #Parte inferior de la formula de la pendiente\n",
    "\n",
    "        pi_pendiente:int|float = len(ventana.valoresx) * sum(ventana.valoresx * ventana.valoresx) - (sum(ventana.valoresx) * sum(ventana.valoresx))\n",
    "\n",
    "        #Parte de la interseccion con el eje y\n",
    "        valor_b:int|float = media_y - media_x*(ps_pendiente/pi_pendiente)\n",
    "        \n",
    "        ventana.ecuacion = f\"{ps_pendiente/pi_pendiente}x + {valor_b}\"\n",
    "\n",
    "        return f\"{ps_pendiente/pi_pendiente}x + {valor_b}\"\n",
    "        \n",
    "\n",
    "\n",
    "    \n",
    "\n",
    "        \n"
   ]
  },
  {
   "cell_type": "code",
   "execution_count": 23,
   "metadata": {},
   "outputs": [],
   "source": [
    "ventana = Window(None,None)"
   ]
  },
  {
   "cell_type": "code",
   "execution_count": 24,
   "metadata": {},
   "outputs": [],
   "source": [
    "ventana.window()"
   ]
  },
  {
   "cell_type": "code",
   "execution_count": 25,
   "metadata": {},
   "outputs": [
    {
     "data": {
      "text/plain": [
       "'LReg'"
      ]
     },
     "execution_count": 25,
     "metadata": {},
     "output_type": "execute_result"
    }
   ],
   "source": [
    "ventana.seleccion"
   ]
  }
 ],
 "metadata": {
  "kernelspec": {
   "display_name": "Python 3",
   "language": "python",
   "name": "python3"
  },
  "language_info": {
   "codemirror_mode": {
    "name": "ipython",
    "version": 3
   },
   "file_extension": ".py",
   "mimetype": "text/x-python",
   "name": "python",
   "nbconvert_exporter": "python",
   "pygments_lexer": "ipython3",
   "version": "3.13.1"
  }
 },
 "nbformat": 4,
 "nbformat_minor": 2
}
